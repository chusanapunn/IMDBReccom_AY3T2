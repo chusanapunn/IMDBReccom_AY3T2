{
 "cells": [
  {
   "attachments": {},
   "cell_type": "markdown",
   "metadata": {},
   "source": [
    "% DES431 Project 2: Recommendation System"
   ]
  },
  {
   "attachments": {},
   "cell_type": "markdown",
   "metadata": {},
   "source": [
    "# Background\n",
    "\n",
    "**MovieLens** is a movie recommendation system operated by GroupLens, a research group at the University of Minnesota. \n",
    "\n",
    "# Task\n",
    "\n",
    "1. Propose and implement your own recommendation system based on the MovieLens dataset. Use `ratings_train.csv` as the training set, `ratings_valid.csv` as the validation set. Your system may use information from `movies.csv` and `tags.csv` to conduct recommendations. The undisclosed test set will be used to evaluate your system.\n",
    "   - The data file structure is available at https://files.grouplens.org/datasets/movielens/ml-latest-small-README.html. \n",
    "   - The main goal of the recommendation system is to minimize the root-mean-square error.\n",
    "   - The implementation should include a function named `predict_rating`. This function accepts a DataFrame with two columns `userId` and `movieId`. Then, the function adds a column named `rating` storing a predicted rating of a `movieId` by a `userId`.\n",
    "   - Your program must return a root-mean-square error value when the validation set is changed to another file. Otherwise, your score will be deducted by 50%.\n",
    "   - You must modify the given program to make better recommendations. Submitting the original program without modification is considered plagiarism.\n",
    "2. Prepare slides for a 7-minute presentation to explain your proposed technique and algorithm to conduct recommendation, and show your RMSE results on the validation set.\n",
    "3. Submit all required documents by April 30, 2023; 23:59. Late submission will not be accepted and will be marked 0. Do not wait until the last minute. Plagiarism and code duplication will be checked. \n",
    "4. Present your work on May 1, 2023 within 7 minutes. Exceeding 7 minutes will be subject to point deduction."
   ]
  },
  {
   "cell_type": "code",
   "execution_count": 1,
   "metadata": {},
   "outputs": [],
   "source": [
    "import numpy as np\n",
    "import pandas as pd"
   ]
  },
  {
   "attachments": {},
   "cell_type": "markdown",
   "metadata": {},
   "source": [
    "# Loading data"
   ]
  },
  {
   "cell_type": "code",
   "execution_count": 2,
   "metadata": {},
   "outputs": [],
   "source": [
    "ratings_train = pd.read_csv('ratings_train.csv')\n",
    "ratings_valid = pd.read_csv('ratings_valid.csv')\n",
    "movies = pd.read_csv('movies.csv')"
   ]
  },
  {
   "attachments": {},
   "cell_type": "markdown",
   "metadata": {},
   "source": [
    "# Constructing model and predicting ratings"
   ]
  },
  {
   "cell_type": "code",
   "execution_count": 3,
   "metadata": {},
   "outputs": [],
   "source": [
    "# Model construction\n",
    "avg_rating = ratings_train[['movieId', 'rating']].groupby(by='movieId').mean()\n",
    "\t    \n",
    "# Prediction\n",
    "def predict_rating(df):\n",
    "    # Input: \n",
    "\t# \tdf = a dataframe with two columns: userId, movieId\n",
    "\t# Output:\n",
    "\t#   a dataframe with three columns: userId, movieId, rating\n",
    "\treturn df.join(avg_rating, on='movieId')\n"
   ]
  },
  {
   "cell_type": "code",
   "execution_count": 4,
   "metadata": {},
   "outputs": [],
   "source": [
    "# Prepare df for prediction\n",
    "r = ratings_valid[['userId', 'movieId']]\n",
    "\n",
    "# Predict ratings\n",
    "ratings_pred = predict_rating(r)"
   ]
  },
  {
   "cell_type": "code",
   "execution_count": 5,
   "metadata": {},
   "outputs": [
    {
     "name": "stdout",
     "output_type": "stream",
     "text": [
      "RMSE = 0.9171\n"
     ]
    }
   ],
   "source": [
    "from sklearn.metrics import mean_squared_error\n",
    "\n",
    "r_true = ratings_valid['rating'].to_numpy()\n",
    "r_pred = ratings_pred['rating'].to_numpy()\n",
    "\n",
    "rmse = mean_squared_error(r_true, r_pred, squared=False)\n",
    "print(f\"RMSE = {rmse:.4f}\")"
   ]
  }
 ],
 "metadata": {
  "kernelspec": {
   "display_name": "base",
   "language": "python",
   "name": "python3"
  },
  "language_info": {
   "codemirror_mode": {
    "name": "ipython",
    "version": 3
   },
   "file_extension": ".py",
   "mimetype": "text/x-python",
   "name": "python",
   "nbconvert_exporter": "python",
   "pygments_lexer": "ipython3",
   "version": "3.9.13"
  },
  "orig_nbformat": 4
 },
 "nbformat": 4,
 "nbformat_minor": 2
}
